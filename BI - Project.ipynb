{
  "cells": [
    {
      "cell_type": "code",
      "execution_count": 6,
      "metadata": {
        "colab": {
          "base_uri": "https://localhost:8080/"
        },
        "id": "FHp4V9V_vVvO",
        "outputId": "ca4bdb4e-a245-4744-9e41-bcbba4226908"
      },
      "outputs": [
        {
          "name": "stdout",
          "output_type": "stream",
          "text": [
            "Requirement already satisfied: pandas in /usr/local/lib/python3.11/dist-packages (2.2.2)\n",
            "Requirement already satisfied: numpy in /usr/local/lib/python3.11/dist-packages (1.26.4)\n",
            "Requirement already satisfied: scikit-learn in /usr/local/lib/python3.11/dist-packages (1.6.1)\n",
            "Requirement already satisfied: matplotlib in /usr/local/lib/python3.11/dist-packages (3.10.0)\n",
            "Requirement already satisfied: seaborn in /usr/local/lib/python3.11/dist-packages (0.13.2)\n",
            "Requirement already satisfied: python-dateutil>=2.8.2 in /usr/local/lib/python3.11/dist-packages (from pandas) (2.8.2)\n",
            "Requirement already satisfied: pytz>=2020.1 in /usr/local/lib/python3.11/dist-packages (from pandas) (2024.2)\n",
            "Requirement already satisfied: tzdata>=2022.7 in /usr/local/lib/python3.11/dist-packages (from pandas) (2025.1)\n",
            "Requirement already satisfied: scipy>=1.6.0 in /usr/local/lib/python3.11/dist-packages (from scikit-learn) (1.13.1)\n",
            "Requirement already satisfied: joblib>=1.2.0 in /usr/local/lib/python3.11/dist-packages (from scikit-learn) (1.4.2)\n",
            "Requirement already satisfied: threadpoolctl>=3.1.0 in /usr/local/lib/python3.11/dist-packages (from scikit-learn) (3.5.0)\n",
            "Requirement already satisfied: contourpy>=1.0.1 in /usr/local/lib/python3.11/dist-packages (from matplotlib) (1.3.1)\n",
            "Requirement already satisfied: cycler>=0.10 in /usr/local/lib/python3.11/dist-packages (from matplotlib) (0.12.1)\n",
            "Requirement already satisfied: fonttools>=4.22.0 in /usr/local/lib/python3.11/dist-packages (from matplotlib) (4.55.7)\n",
            "Requirement already satisfied: kiwisolver>=1.3.1 in /usr/local/lib/python3.11/dist-packages (from matplotlib) (1.4.8)\n",
            "Requirement already satisfied: packaging>=20.0 in /usr/local/lib/python3.11/dist-packages (from matplotlib) (24.2)\n",
            "Requirement already satisfied: pillow>=8 in /usr/local/lib/python3.11/dist-packages (from matplotlib) (11.1.0)\n",
            "Requirement already satisfied: pyparsing>=2.3.1 in /usr/local/lib/python3.11/dist-packages (from matplotlib) (3.2.1)\n",
            "Requirement already satisfied: six>=1.5 in /usr/local/lib/python3.11/dist-packages (from python-dateutil>=2.8.2->pandas) (1.17.0)\n"
          ]
        }
      ],
      "source": [
        "# Install libraries if needed\n",
        "!pip install pandas numpy scikit-learn matplotlib seaborn\n",
        "\n",
        "# Import libraries\n",
        "import pandas as pd\n",
        "import numpy as np\n",
        "import matplotlib.pyplot as plt\n",
        "import seaborn as sns\n",
        "from sklearn.model_selection import train_test_split\n",
        "from sklearn.preprocessing import LabelEncoder, StandardScaler\n",
        "from sklearn.ensemble import RandomForestClassifier\n",
        "from sklearn.metrics import classification_report, confusion_matrix"
      ]
    },
    {
      "cell_type": "code",
      "execution_count": 8,
      "metadata": {
        "colab": {
          "base_uri": "https://localhost:8080/"
        },
        "id": "L8tSsd2jjSla",
        "outputId": "e00b247d-b826-4326-d458-44235edc3e40"
      },
      "outputs": [
        {
          "name": "stdout",
          "output_type": "stream",
          "text": [
            "                    crash_date traffic_control_device weather_condition  \\\n",
            "0       07/29/2023 01:00:00 PM         TRAFFIC SIGNAL             CLEAR   \n",
            "1       08/13/2023 12:11:00 AM         TRAFFIC SIGNAL             CLEAR   \n",
            "2       12/09/2021 10:30:00 AM         TRAFFIC SIGNAL             CLEAR   \n",
            "3       08/09/2023 07:55:00 PM         TRAFFIC SIGNAL             CLEAR   \n",
            "4       08/19/2023 02:55:00 PM         TRAFFIC SIGNAL             CLEAR   \n",
            "...                        ...                    ...               ...   \n",
            "120257  01/11/2023 08:12:00 AM         TRAFFIC SIGNAL             CLEAR   \n",
            "120258  07/16/2018 07:58:00 AM            NO CONTROLS             CLEAR   \n",
            "120259  10/17/2023 03:33:00 PM         TRAFFIC SIGNAL             CLEAR   \n",
            "120260  10/19/2020 08:47:00 PM         TRAFFIC SIGNAL              RAIN   \n",
            "120261  09/28/2019 04:50:00 PM         TRAFFIC SIGNAL             CLEAR   \n",
            "\n",
            "            lighting_condition first_crash_type  \\\n",
            "0                     DAYLIGHT          TURNING   \n",
            "1       DARKNESS, LIGHTED ROAD          TURNING   \n",
            "2                     DAYLIGHT         REAR END   \n",
            "3                     DAYLIGHT            ANGLE   \n",
            "4                     DAYLIGHT         REAR END   \n",
            "...                        ...              ...   \n",
            "120257                DAYLIGHT          TURNING   \n",
            "120258                DAYLIGHT          TURNING   \n",
            "120259                DAYLIGHT          TURNING   \n",
            "120260  DARKNESS, LIGHTED ROAD         REAR END   \n",
            "120261                DAYLIGHT          TURNING   \n",
            "\n",
            "                        trafficway_type           alignment  \\\n",
            "0                           NOT DIVIDED  STRAIGHT AND LEVEL   \n",
            "1                              FOUR WAY  STRAIGHT AND LEVEL   \n",
            "2                        T-INTERSECTION  STRAIGHT AND LEVEL   \n",
            "3                              FOUR WAY  STRAIGHT AND LEVEL   \n",
            "4                        T-INTERSECTION  STRAIGHT AND LEVEL   \n",
            "...                                 ...                 ...   \n",
            "120257                         FOUR WAY  STRAIGHT AND LEVEL   \n",
            "120258  DIVIDED - W/MEDIAN (NOT RAISED)  STRAIGHT AND LEVEL   \n",
            "120259                      NOT DIVIDED  STRAIGHT AND LEVEL   \n",
            "120260                      NOT DIVIDED  STRAIGHT AND LEVEL   \n",
            "120261       DIVIDED - W/MEDIAN BARRIER  STRAIGHT AND LEVEL   \n",
            "\n",
            "       roadway_surface_cond road_defect                        crash_type  \\\n",
            "0                   UNKNOWN     UNKNOWN            NO INJURY / DRIVE AWAY   \n",
            "1                       DRY  NO DEFECTS            NO INJURY / DRIVE AWAY   \n",
            "2                       DRY  NO DEFECTS            NO INJURY / DRIVE AWAY   \n",
            "3                       DRY  NO DEFECTS  INJURY AND / OR TOW DUE TO CRASH   \n",
            "4                   UNKNOWN     UNKNOWN            NO INJURY / DRIVE AWAY   \n",
            "...                     ...         ...                               ...   \n",
            "120257                  DRY  NO DEFECTS  INJURY AND / OR TOW DUE TO CRASH   \n",
            "120258                  DRY  NO DEFECTS  INJURY AND / OR TOW DUE TO CRASH   \n",
            "120259                  DRY  NO DEFECTS            NO INJURY / DRIVE AWAY   \n",
            "120260                  WET     UNKNOWN            NO INJURY / DRIVE AWAY   \n",
            "120261                  DRY  NO DEFECTS  INJURY AND / OR TOW DUE TO CRASH   \n",
            "\n",
            "        ...        most_severe_injury injuries_total injuries_fatal  \\\n",
            "0       ...   NO INDICATION OF INJURY            0.0            0.0   \n",
            "1       ...   NO INDICATION OF INJURY            0.0            0.0   \n",
            "2       ...   NO INDICATION OF INJURY            0.0            0.0   \n",
            "3       ...  NONINCAPACITATING INJURY            5.0            0.0   \n",
            "4       ...   NO INDICATION OF INJURY            0.0            0.0   \n",
            "...     ...                       ...            ...            ...   \n",
            "120257  ...  NONINCAPACITATING INJURY            1.0            0.0   \n",
            "120258  ...   NO INDICATION OF INJURY            0.0            0.0   \n",
            "120259  ...   NO INDICATION OF INJURY            0.0            0.0   \n",
            "120260  ...   NO INDICATION OF INJURY            0.0            0.0   \n",
            "120261  ...                 NO INDICA            NaN            NaN   \n",
            "\n",
            "        injuries_incapacitating injuries_non_incapacitating  \\\n",
            "0                           0.0                         0.0   \n",
            "1                           0.0                         0.0   \n",
            "2                           0.0                         0.0   \n",
            "3                           0.0                         5.0   \n",
            "4                           0.0                         0.0   \n",
            "...                         ...                         ...   \n",
            "120257                      0.0                         1.0   \n",
            "120258                      0.0                         0.0   \n",
            "120259                      0.0                         0.0   \n",
            "120260                      0.0                         0.0   \n",
            "120261                      NaN                         NaN   \n",
            "\n",
            "        injuries_reported_not_evident  injuries_no_indication  crash_hour  \\\n",
            "0                                 0.0                     3.0        13.0   \n",
            "1                                 0.0                     2.0         0.0   \n",
            "2                                 0.0                     3.0        10.0   \n",
            "3                                 0.0                     0.0        19.0   \n",
            "4                                 0.0                     3.0        14.0   \n",
            "...                               ...                     ...         ...   \n",
            "120257                            0.0                     2.0         8.0   \n",
            "120258                            0.0                     2.0         7.0   \n",
            "120259                            0.0                     2.0        15.0   \n",
            "120260                            0.0                     3.0        20.0   \n",
            "120261                            NaN                     NaN         NaN   \n",
            "\n",
            "        crash_day_of_week  crash_month  \n",
            "0                     7.0          7.0  \n",
            "1                     1.0          8.0  \n",
            "2                     5.0         12.0  \n",
            "3                     4.0          8.0  \n",
            "4                     7.0          8.0  \n",
            "...                   ...          ...  \n",
            "120257                4.0          1.0  \n",
            "120258                2.0          7.0  \n",
            "120259                3.0         10.0  \n",
            "120260                2.0         10.0  \n",
            "120261                NaN          NaN  \n",
            "\n",
            "[120262 rows x 24 columns]\n"
          ]
        }
      ],
      "source": [
        "df=pd.read_csv('traffic_accidents.csv')\n",
        "print(df)"
      ]
    },
    {
      "cell_type": "code",
      "execution_count": 9,
      "metadata": {
        "colab": {
          "base_uri": "https://localhost:8080/"
        },
        "id": "G-GYCeAmmJsd",
        "outputId": "27581e7a-7bfa-433a-93e9-83d89d4da1e5"
      },
      "outputs": [
        {
          "name": "stdout",
          "output_type": "stream",
          "text": [
            "Index(['crash_date', 'traffic_control_device', 'weather_condition',\n",
            "       'lighting_condition', 'first_crash_type', 'trafficway_type',\n",
            "       'alignment', 'roadway_surface_cond', 'road_defect', 'crash_type',\n",
            "       'intersection_related_i', 'damage', 'prim_contributory_cause',\n",
            "       'num_units', 'most_severe_injury', 'injuries_total', 'injuries_fatal',\n",
            "       'injuries_incapacitating', 'injuries_non_incapacitating',\n",
            "       'injuries_reported_not_evident', 'injuries_no_indication', 'crash_hour',\n",
            "       'crash_day_of_week', 'crash_month'],\n",
            "      dtype='object')\n"
          ]
        }
      ],
      "source": [
        "print(df.columns)"
      ]
    },
    {
      "cell_type": "code",
      "execution_count": 10,
      "metadata": {
        "colab": {
          "base_uri": "https://localhost:8080/"
        },
        "id": "ndR8GsvFvn8S",
        "outputId": "c25f0c13-df00-4aa4-f9f1-e7246459019a"
      },
      "outputs": [
        {
          "name": "stdout",
          "output_type": "stream",
          "text": [
            "crash_date                       0\n",
            "traffic_control_device           0\n",
            "weather_condition                0\n",
            "lighting_condition               0\n",
            "first_crash_type                 0\n",
            "trafficway_type                  0\n",
            "alignment                        0\n",
            "roadway_surface_cond             0\n",
            "road_defect                      0\n",
            "crash_type                       0\n",
            "intersection_related_i           0\n",
            "damage                           0\n",
            "prim_contributory_cause          0\n",
            "num_units                        0\n",
            "most_severe_injury               0\n",
            "injuries_total                   1\n",
            "injuries_fatal                   1\n",
            "injuries_incapacitating          1\n",
            "injuries_non_incapacitating      1\n",
            "injuries_reported_not_evident    1\n",
            "injuries_no_indication           1\n",
            "crash_hour                       1\n",
            "crash_day_of_week                1\n",
            "crash_month                      1\n",
            "dtype: int64\n"
          ]
        },
        {
          "name": "stderr",
          "output_type": "stream",
          "text": [
            "<ipython-input-10-61791cad35b5>:6: FutureWarning: A value is trying to be set on a copy of a DataFrame or Series through chained assignment using an inplace method.\n",
            "The behavior will change in pandas 3.0. This inplace method will never work because the intermediate object on which we are setting values always behaves as a copy.\n",
            "\n",
            "For example, when doing 'df[col].method(value, inplace=True)', try using 'df.method({col: value}, inplace=True)' or df[col] = df[col].method(value) instead, to perform the operation inplace on the original object.\n",
            "\n",
            "\n",
            "  df[col].fillna(df[col].mode()[0], inplace=True)\n",
            "<ipython-input-10-61791cad35b5>:10: FutureWarning: A value is trying to be set on a copy of a DataFrame or Series through chained assignment using an inplace method.\n",
            "The behavior will change in pandas 3.0. This inplace method will never work because the intermediate object on which we are setting values always behaves as a copy.\n",
            "\n",
            "For example, when doing 'df[col].method(value, inplace=True)', try using 'df.method({col: value}, inplace=True)' or df[col] = df[col].method(value) instead, to perform the operation inplace on the original object.\n",
            "\n",
            "\n",
            "  df[col].fillna(df[col].median(), inplace=True)\n"
          ]
        },
        {
          "name": "stdout",
          "output_type": "stream",
          "text": [
            "<class 'pandas.core.frame.DataFrame'>\n",
            "RangeIndex: 120262 entries, 0 to 120261\n",
            "Data columns (total 24 columns):\n",
            " #   Column                         Non-Null Count   Dtype  \n",
            "---  ------                         --------------   -----  \n",
            " 0   crash_date                     120262 non-null  int64  \n",
            " 1   traffic_control_device         120262 non-null  int64  \n",
            " 2   weather_condition              120262 non-null  int64  \n",
            " 3   lighting_condition             120262 non-null  int64  \n",
            " 4   first_crash_type               120262 non-null  int64  \n",
            " 5   trafficway_type                120262 non-null  int64  \n",
            " 6   alignment                      120262 non-null  int64  \n",
            " 7   roadway_surface_cond           120262 non-null  int64  \n",
            " 8   road_defect                    120262 non-null  int64  \n",
            " 9   crash_type                     120262 non-null  int64  \n",
            " 10  intersection_related_i         120262 non-null  int64  \n",
            " 11  damage                         120262 non-null  int64  \n",
            " 12  prim_contributory_cause        120262 non-null  int64  \n",
            " 13  num_units                      120262 non-null  int64  \n",
            " 14  most_severe_injury             120262 non-null  int64  \n",
            " 15  injuries_total                 120262 non-null  float64\n",
            " 16  injuries_fatal                 120262 non-null  float64\n",
            " 17  injuries_incapacitating        120262 non-null  float64\n",
            " 18  injuries_non_incapacitating    120262 non-null  float64\n",
            " 19  injuries_reported_not_evident  120262 non-null  float64\n",
            " 20  injuries_no_indication         120262 non-null  float64\n",
            " 21  crash_hour                     120262 non-null  float64\n",
            " 22  crash_day_of_week              120262 non-null  float64\n",
            " 23  crash_month                    120262 non-null  float64\n",
            "dtypes: float64(9), int64(15)\n",
            "memory usage: 22.0 MB\n"
          ]
        }
      ],
      "source": [
        "# Check for missing values\n",
        "print(df.isnull().sum())\n",
        "\n",
        "# Fill or drop missing values (example: filling with mode for categorical columns)\n",
        "for col in df.select_dtypes(include='object').columns:\n",
        "    df[col].fillna(df[col].mode()[0], inplace=True)\n",
        "\n",
        "# Fill numeric columns with median\n",
        "for col in df.select_dtypes(include='number').columns:\n",
        "    df[col].fillna(df[col].median(), inplace=True)\n",
        "\n",
        "# Encode categorical variables\n",
        "label_encoders = {}\n",
        "for col in df.select_dtypes(include='object').columns:\n",
        "    le = LabelEncoder()\n",
        "    df[col] = le.fit_transform(df[col])\n",
        "    label_encoders[col] = le\n",
        "\n",
        "# Display cleaned data\n",
        "df.info()\n"
      ]
    },
    {
      "cell_type": "code",
      "execution_count": 11,
      "metadata": {
        "id": "iO8yka45v4fq"
      },
      "outputs": [],
      "source": [
        "# Define features and target\n",
        "X = df.drop(['crash_type'], axis=1)  # Replace 'crash_type' if using another target\n",
        "y = df['crash_type']\n",
        "\n",
        "# Split data into training and testing sets\n",
        "X_train, X_test, y_train, y_test = train_test_split(X, y, test_size=0.2, random_state=42)"
      ]
    },
    {
      "cell_type": "code",
      "execution_count": 12,
      "metadata": {
        "id": "3py4NVM0v9RZ"
      },
      "outputs": [],
      "source": [
        "# Initialize and train model\n",
        "model = RandomForestClassifier(n_estimators=100, random_state=42)\n",
        "model.fit(X_train, y_train)\n",
        "\n",
        "# Make predictions\n",
        "y_pred = model.predict(X_test)"
      ]
    },
    {
      "cell_type": "code",
      "execution_count": 13,
      "metadata": {
        "colab": {
          "base_uri": "https://localhost:8080/",
          "height": 628
        },
        "id": "iuEnrF7PwFkx",
        "outputId": "1e3c1b6f-29ae-4edd-d77d-9083ccd87818"
      },
      "outputs": [
        {
          "name": "stdout",
          "output_type": "stream",
          "text": [
            "              precision    recall  f1-score   support\n",
            "\n",
            "           0       0.87      0.75      0.81     10543\n",
            "           1       0.82      0.91      0.87     13510\n",
            "\n",
            "    accuracy                           0.84     24053\n",
            "   macro avg       0.85      0.83      0.84     24053\n",
            "weighted avg       0.84      0.84      0.84     24053\n",
            "\n"
          ]
        },
        {
          "data": {
            "image/png": "[encoded data removed]",
            "text/plain": [
              "<Figure size 640x480 with 2 Axes>"
            ]
          },
          "metadata": {},
          "output_type": "display_data"
        }
      ],
      "source": [
        "# Classification report\n",
        "print(classification_report(y_test, y_pred))\n",
        "\n",
        "# Confusion matrix\n",
        "conf_matrix = confusion_matrix(y_test, y_pred)\n",
        "sns.heatmap(conf_matrix, annot=True, fmt='d', cmap='Blues')\n",
        "plt.title('Confusion Matrix')\n",
        "plt.xlabel('Predicted')\n",
        "plt.ylabel('Actual')\n",
        "plt.show()"
      ]
    },
    {
      "cell_type": "code",
      "execution_count": 14,
      "metadata": {
        "colab": {
          "base_uri": "https://localhost:8080/"
        },
        "id": "Z4NdTUVYwK9-",
        "outputId": "a59fa82c-fd0a-48a3-a805-6c43408da85a"
      },
      "outputs": [
        {
          "name": "stdout",
          "output_type": "stream",
          "text": [
            "Fitting 3 folds for each of 108 candidates, totalling 324 fits\n",
            "Best Parameters: {'max_depth': None, 'min_samples_leaf': 4, 'min_samples_split': 2, 'n_estimators': 100}\n"
          ]
        }
      ],
      "source": [
        "from sklearn.model_selection import GridSearchCV\n",
        "\n",
        "# Define parameter grid for tuning\n",
        "param_grid = {\n",
        "    'n_estimators': [50, 100, 150],\n",
        "    'max_depth': [None, 10, 20, 30],\n",
        "    'min_samples_split': [2, 5, 10],\n",
        "    'min_samples_leaf': [1, 2, 4]\n",
        "}\n",
        "\n",
        "# Initialize GridSearchCV\n",
        "grid_search = GridSearchCV(estimator=RandomForestClassifier(random_state=42),\n",
        "                           param_grid=param_grid,\n",
        "                           cv=3,\n",
        "                           n_jobs=-1,\n",
        "                           verbose=2)\n",
        "\n",
        "# Fit model to training data\n",
        "grid_search.fit(X_train, y_train)\n",
        "\n",
        "# Display best parameters\n",
        "print(f\"Best Parameters: {grid_search.best_params_}\")"
      ]
    },
    {
      "cell_type": "code",
      "execution_count": 17,
      "metadata": {
        "colab": {
          "base_uri": "https://localhost:8080/",
          "height": 628
        },
        "id": "qKz1j_eUzHAG",
        "outputId": "c8feffde-ce42-47df-b043-3c2e31f020cb"
      },
      "outputs": [
        {
          "name": "stdout",
          "output_type": "stream",
          "text": [
            "              precision    recall  f1-score   support\n",
            "\n",
            "           0       0.90      0.73      0.81     10543\n",
            "           1       0.82      0.94      0.87     13510\n",
            "\n",
            "    accuracy                           0.85     24053\n",
            "   macro avg       0.86      0.83      0.84     24053\n",
            "weighted avg       0.85      0.85      0.84     24053\n",
            "\n"
          ]
        },
        {
          "data": {
            "image/png": "[encoded data removed]",
            "text/plain": [
              "<Figure size 640x480 with 2 Axes>"
            ]
          },
          "metadata": {},
          "output_type": "display_data"
        }
      ],
      "source": [
        "# Use the best estimator found by GridSearchCV\n",
        "best_model = grid_search.best_estimator_\n",
        "\n",
        "# Predict using the tuned model\n",
        "y_pred_tuned = best_model.predict(X_test)\n",
        "\n",
        "# Evaluate performance\n",
        "from sklearn.metrics import classification_report, confusion_matrix\n",
        "\n",
        "print(classification_report(y_test, y_pred_tuned))\n",
        "\n",
        "# Confusion matrix\n",
        "conf_matrix_tuned = confusion_matrix(y_test, y_pred_tuned)\n",
        "sns.heatmap(conf_matrix_tuned, annot=True, fmt='d', cmap='Greens')\n",
        "plt.title('Confusion Matrix (Tuned Model)')\n",
        "plt.xlabel('Predicted')\n",
        "plt.ylabel('Actual')\n",
        "plt.show()"
      ]
    },
    {
      "cell_type": "code",
      "execution_count": 18,
      "metadata": {
        "colab": {
          "base_uri": "https://localhost:8080/",
          "height": 842
        },
        "id": "ziDh5PPM2h1Q",
        "outputId": "166099a8-368c-4c5c-8587-923555d5d39f"
      },
      "outputs": [
        {
          "name": "stdout",
          "output_type": "stream",
          "text": [
            "                          Feature  Importance\n",
            "14                 injuries_total    0.217534\n",
            "13             most_severe_injury    0.195029\n",
            "17    injuries_non_incapacitating    0.084180\n",
            "4                first_crash_type    0.078058\n",
            "19         injuries_no_indication    0.070962\n",
            "10                         damage    0.061369\n",
            "18  injuries_reported_not_evident    0.047949\n",
            "11        prim_contributory_cause    0.043100\n",
            "0                      crash_date    0.040668\n",
            "20                     crash_hour    0.033366\n"
          ]
        },
        {
          "name": "stderr",
          "output_type": "stream",
          "text": [
            "<ipython-input-18-67c2ae666497>:14: FutureWarning: \n",
            "\n",
            "Passing `palette` without assigning `hue` is deprecated and will be removed in v0.14.0. Assign the `y` variable to `hue` and set `legend=False` for the same effect.\n",
            "\n",
            "  sns.barplot(x='Importance', y='Feature', data=feature_importances_df.head(10), palette='viridis')\n"
          ]
        },
        {
          "data": {
            "image/png": "[encoded data removed]",
            "text/plain": [
              "<Figure size 1000x600 with 1 Axes>"
            ]
          },
          "metadata": {},
          "output_type": "display_data"
        }
      ],
      "source": [
        "# Get feature importances from the model\n",
        "importances = best_model.feature_importances_\n",
        "features = X.columns\n",
        "\n",
        "# Create DataFrame for visualization\n",
        "feature_importances_df = pd.DataFrame({'Feature': features, 'Importance': importances})\n",
        "feature_importances_df = feature_importances_df.sort_values(by='Importance', ascending=False)\n",
        "\n",
        "# Display top features\n",
        "print(feature_importances_df.head(10))\n",
        "\n",
        "# Plot feature importances\n",
        "plt.figure(figsize=(10, 6))\n",
        "sns.barplot(x='Importance', y='Feature', data=feature_importances_df.head(10), palette='viridis')\n",
        "plt.title('Top 10 Feature Importances')\n",
        "plt.show()"
      ]
    },
    {
      "cell_type": "code",
      "execution_count": 19,
      "metadata": {
        "colab": {
          "base_uri": "https://localhost:8080/"
        },
        "id": "QmkW_OdmGMXG",
        "outputId": "d1a4818e-c6cc-41ed-bd91-dcb86861d9aa"
      },
      "outputs": [
        {
          "data": {
            "text/plain": [
              "['accident_prediction_model.pkl']"
            ]
          },
          "execution_count": 19,
          "metadata": {},
          "output_type": "execute_result"
        }
      ],
      "source": [
        "import joblib\n",
        "\n",
        "# Save the model\n",
        "joblib.dump(best_model, 'accident_prediction_model.pkl')"
      ]
    },
    {
      "cell_type": "code",
      "execution_count": 21,
      "metadata": {
        "colab": {
          "base_uri": "https://localhost:8080/"
        },
        "id": "lcgAXrCZGU9P",
        "outputId": "c1774e33-2042-4da6-eaf5-1e4fdc17c01a"
      },
      "outputs": [
        {
          "name": "stdout",
          "output_type": "stream",
          "text": [
            "Predicted Crash Type: 1\n"
          ]
        }
      ],
      "source": [
        "# Load model\n",
        "model = joblib.load('accident_prediction_model.pkl')\n",
        "\n",
        "# Get the feature names used during training\n",
        "training_features = model.feature_names_in_\n",
        "\n",
        "# Example input (replace with user input from chatbot)\n",
        "# Ensure all features used during training are included and in the correct order\n",
        "user_input = pd.DataFrame({\n",
        "    feature: [0] for feature in training_features  # Initialize all features to 0\n",
        "})\n",
        "\n",
        "# Update user input with actual values (replace with user input from chatbot)\n",
        "user_input['weather_condition'] = [1]  # Example encoded value\n",
        "user_input['lighting_condition'] = [2]\n",
        "user_input['roadway_surface_cond'] = [0]\n",
        "user_input['crash_hour'] = [14]\n",
        "user_input['traffic_control_device'] = [3]\n",
        "# ... Add other necessary features here ...\n",
        "\n",
        "\n",
        "# Predict\n",
        "prediction = model.predict(user_input)\n",
        "print(f'Predicted Crash Type: {prediction[0]}')"
      ]
    },
    {
      "cell_type": "code",
      "execution_count": 26,
      "metadata": {
        "colab": {
          "base_uri": "https://localhost:8080/"
        },
        "id": "uV7VYQOeHYDG",
        "outputId": "b4832869-0d2b-44c8-b8e6-3315487515cd"
      },
      "outputs": [
        {
          "name": "stdout",
          "output_type": "stream",
          "text": [
            "Collecting streamlit\n",
            "  Downloading streamlit-1.41.1-py2.py3-none-any.whl.metadata (8.5 kB)\n",
            "Requirement already satisfied: altair<6,>=4.0 in /usr/local/lib/python3.11/dist-packages (from streamlit) (5.5.0)\n",
            "Requirement already satisfied: blinker<2,>=1.0.0 in /usr/local/lib/python3.11/dist-packages (from streamlit) (1.9.0)\n",
            "Requirement already satisfied: cachetools<6,>=4.0 in /usr/local/lib/python3.11/dist-packages (from streamlit) (5.5.1)\n",
            "Requirement already satisfied: click<9,>=7.0 in /usr/local/lib/python3.11/dist-packages (from streamlit) (8.1.8)\n",
            "Requirement already satisfied: numpy<3,>=1.23 in /usr/local/lib/python3.11/dist-packages (from streamlit) (1.26.4)\n",
            "Requirement already satisfied: packaging<25,>=20 in /usr/local/lib/python3.11/dist-packages (from streamlit) (24.2)\n",
            "Requirement already satisfied: pandas<3,>=1.4.0 in /usr/local/lib/python3.11/dist-packages (from streamlit) (2.2.2)\n",
            "Requirement already satisfied: pillow<12,>=7.1.0 in /usr/local/lib/python3.11/dist-packages (from streamlit) (11.1.0)\n",
            "Requirement already satisfied: protobuf<6,>=3.20 in /usr/local/lib/python3.11/dist-packages (from streamlit) (4.25.6)\n",
            "Requirement already satisfied: pyarrow>=7.0 in /usr/local/lib/python3.11/dist-packages (from streamlit) (17.0.0)\n",
            "Requirement already satisfied: requests<3,>=2.27 in /usr/local/lib/python3.11/dist-packages (from streamlit) (2.32.3)\n",
            "Requirement already satisfied: rich<14,>=10.14.0 in /usr/local/lib/python3.11/dist-packages (from streamlit) (13.9.4)\n",
            "Requirement already satisfied: tenacity<10,>=8.1.0 in /usr/local/lib/python3.11/dist-packages (from streamlit) (9.0.0)\n",
            "Requirement already satisfied: toml<2,>=0.10.1 in /usr/local/lib/python3.11/dist-packages (from streamlit) (0.10.2)\n",
            "Requirement already satisfied: typing-extensions<5,>=4.3.0 in /usr/local/lib/python3.11/dist-packages (from streamlit) (4.12.2)\n",
            "Collecting watchdog<7,>=2.1.5 (from streamlit)\n",
            "  Downloading watchdog-6.0.0-py3-none-manylinux2014_x86_64.whl.metadata (44 kB)\n",
            "\u001b[2K     \u001b[90m━━━━━━━━━━━━━━━━━━━━━━━━━━━━━━━━━━━━━━━━\u001b[0m \u001b[32m44.3/44.3 kB\u001b[0m \u001b[31m2.4 MB/s\u001b[0m eta \u001b[36m0:00:00\u001b[0m\n",
            "\u001b[?25hRequirement already satisfied: gitpython!=3.1.19,<4,>=3.0.7 in /usr/local/lib/python3.11/dist-packages (from streamlit) (3.1.44)\n",
            "Collecting pydeck<1,>=0.8.0b4 (from streamlit)\n",
            "  Downloading pydeck-0.9.1-py2.py3-none-any.whl.metadata (4.1 kB)\n",
            "Requirement already satisfied: tornado<7,>=6.0.3 in /usr/local/lib/python3.11/dist-packages (from streamlit) (6.4.2)\n",
            "Requirement already satisfied: jinja2 in /usr/local/lib/python3.11/dist-packages (from altair<6,>=4.0->streamlit) (3.1.5)\n",
            "Requirement already satisfied: jsonschema>=3.0 in /usr/local/lib/python3.11/dist-packages (from altair<6,>=4.0->streamlit) (4.23.0)\n",
            "Requirement already satisfied: narwhals>=1.14.2 in /usr/local/lib/python3.11/dist-packages (from altair<6,>=4.0->streamlit) (1.24.1)\n",
            "Requirement already satisfied: gitdb<5,>=4.0.1 in /usr/local/lib/python3.11/dist-packages (from gitpython!=3.1.19,<4,>=3.0.7->streamlit) (4.0.12)\n",
            "Requirement already satisfied: python-dateutil>=2.8.2 in /usr/local/lib/python3.11/dist-packages (from pandas<3,>=1.4.0->streamlit) (2.8.2)\n",
            "Requirement already satisfied: pytz>=2020.1 in /usr/local/lib/python3.11/dist-packages (from pandas<3,>=1.4.0->streamlit) (2024.2)\n",
            "Requirement already satisfied: tzdata>=2022.7 in /usr/local/lib/python3.11/dist-packages (from pandas<3,>=1.4.0->streamlit) (2025.1)\n",
            "Requirement already satisfied: charset-normalizer<4,>=2 in /usr/local/lib/python3.11/dist-packages (from requests<3,>=2.27->streamlit) (3.4.1)\n",
            "Requirement already satisfied: idna<4,>=2.5 in /usr/local/lib/python3.11/dist-packages (from requests<3,>=2.27->streamlit) (3.10)\n",
            "Requirement already satisfied: urllib3<3,>=1.21.1 in /usr/local/lib/python3.11/dist-packages (from requests<3,>=2.27->streamlit) (2.3.0)\n",
            "Requirement already satisfied: certifi>=2017.4.17 in /usr/local/lib/python3.11/dist-packages (from requests<3,>=2.27->streamlit) (2024.12.14)\n",
            "Requirement already satisfied: markdown-it-py>=2.2.0 in /usr/local/lib/python3.11/dist-packages (from rich<14,>=10.14.0->streamlit) (3.0.0)\n",
            "Requirement already satisfied: pygments<3.0.0,>=2.13.0 in /usr/local/lib/python3.11/dist-packages (from rich<14,>=10.14.0->streamlit) (2.18.0)\n",
            "Requirement already satisfied: smmap<6,>=3.0.1 in /usr/local/lib/python3.11/dist-packages (from gitdb<5,>=4.0.1->gitpython!=3.1.19,<4,>=3.0.7->streamlit) (5.0.2)\n",
            "Requirement already satisfied: MarkupSafe>=2.0 in /usr/local/lib/python3.11/dist-packages (from jinja2->altair<6,>=4.0->streamlit) (3.0.2)\n",
            "Requirement already satisfied: attrs>=22.2.0 in /usr/local/lib/python3.11/dist-packages (from jsonschema>=3.0->altair<6,>=4.0->streamlit) (25.1.0)\n",
            "Requirement already satisfied: jsonschema-specifications>=2023.03.6 in /usr/local/lib/python3.11/dist-packages (from jsonschema>=3.0->altair<6,>=4.0->streamlit) (2024.10.1)\n",
            "Requirement already satisfied: referencing>=0.28.4 in /usr/local/lib/python3.11/dist-packages (from jsonschema>=3.0->altair<6,>=4.0->streamlit) (0.36.2)\n",
            "Requirement already satisfied: rpds-py>=0.7.1 in /usr/local/lib/python3.11/dist-packages (from jsonschema>=3.0->altair<6,>=4.0->streamlit) (0.22.3)\n",
            "Requirement already satisfied: mdurl~=0.1 in /usr/local/lib/python3.11/dist-packages (from markdown-it-py>=2.2.0->rich<14,>=10.14.0->streamlit) (0.1.2)\n",
            "Requirement already satisfied: six>=1.5 in /usr/local/lib/python3.11/dist-packages (from python-dateutil>=2.8.2->pandas<3,>=1.4.0->streamlit) (1.17.0)\n",
            "Downloading streamlit-1.41.1-py2.py3-none-any.whl (9.1 MB)\n",
            "\u001b[2K   \u001b[90m━━━━━━━━━━━━━━━━━━━━━━━━━━━━━━━━━━━━━━━━\u001b[0m \u001b[32m9.1/9.1 MB\u001b[0m \u001b[31m51.8 MB/s\u001b[0m eta \u001b[36m0:00:00\u001b[0m\n",
            "\u001b[?25hDownloading pydeck-0.9.1-py2.py3-none-any.whl (6.9 MB)\n",
            "\u001b[2K   \u001b[90m━━━━━━━━━━━━━━━━━━━━━━━━━━━━━━━━━━━━━━━━\u001b[0m \u001b[32m6.9/6.9 MB\u001b[0m \u001b[31m45.8 MB/s\u001b[0m eta \u001b[36m0:00:00\u001b[0m\n",
            "\u001b[?25hDownloading watchdog-6.0.0-py3-none-manylinux2014_x86_64.whl (79 kB)\n",
            "\u001b[2K   \u001b[90m━━━━━━━━━━━━━━━━━━━━━━━━━━━━━━━━━━━━━━━━\u001b[0m \u001b[32m79.1/79.1 kB\u001b[0m \u001b[31m5.0 MB/s\u001b[0m eta \u001b[36m0:00:00\u001b[0m\n",
            "\u001b[?25hInstalling collected packages: watchdog, pydeck, streamlit\n",
            "Successfully installed pydeck-0.9.1 streamlit-1.41.1 watchdog-6.0.0\n"
          ]
        }
      ],
      "source": [
        "pip install streamlit"
      ]
    },
    {
      "cell_type": "code",
      "execution_count": 31,
      "metadata": {
        "colab": {
          "base_uri": "https://localhost:8080/"
        },
        "id": "4J5ObFtCJGvR",
        "outputId": "f4da1af6-7e57-4423-879b-d2124eb4fc32"
      },
      "outputs": [
        {
          "name": "stdout",
          "output_type": "stream",
          "text": [
            "['crash_date', 'traffic_control_device', 'weather_condition', 'lighting_condition', 'first_crash_type', 'trafficway_type', 'alignment', 'roadway_surface_cond', 'road_defect', 'intersection_related_i', 'damage', 'prim_contributory_cause', 'num_units', 'most_severe_injury', 'injuries_total', 'injuries_fatal', 'injuries_incapacitating', 'injuries_non_incapacitating', 'injuries_reported_not_evident', 'injuries_no_indication', 'crash_hour', 'crash_day_of_week', 'crash_month']\n"
          ]
        }
      ],
      "source": [
        "# List of features used during training\n",
        "print(list(X.columns))"
      ]
    },
    {
      "cell_type": "code",
      "execution_count": 35,
      "metadata": {
        "id": "qb_xxz5bT2Sv"
      },
      "outputs": [],
      "source": [
        "# Before training the model\n",
        "X = X.drop(['crash_date'], axis=1)"
      ]
    },
    {
      "cell_type": "code",
      "execution_count": 36,
      "metadata": {
        "colab": {
          "base_uri": "https://localhost:8080/"
        },
        "id": "l8t_uiCUT4-F",
        "outputId": "eff85362-3913-4625-c132-77444cabc5b1"
      },
      "outputs": [
        {
          "data": {
            "text/plain": [
              "['accident_prediction_model.pkl']"
            ]
          },
          "execution_count": 36,
          "metadata": {},
          "output_type": "execute_result"
        }
      ],
      "source": [
        "from sklearn.ensemble import RandomForestClassifier\n",
        "\n",
        "model = RandomForestClassifier()\n",
        "model.fit(X, y)\n",
        "\n",
        "# Save the retrained model\n",
        "import joblib\n",
        "joblib.dump(model, 'accident_prediction_model.pkl')"
      ]
    },
    {
      "cell_type": "code",
      "execution_count": 37,
      "metadata": {
        "colab": {
          "base_uri": "https://localhost:8080/"
        },
        "id": "tN0r7nVBILZO",
        "outputId": "e088c2f5-a89d-474a-b813-70a6e990426c"
      },
      "outputs": [
        {
          "name": "stdout",
          "output_type": "stream",
          "text": [
            "Welcome to the Accident Prediction Chatbot!\n",
            "Please provide the following information:\n",
            "\n",
            "Weather Condition (0=Clear, 1=Rain, 2=Snow, etc.): 0\n",
            "Lighting Condition (0=Daylight, 1=Dark, etc.): 0\n",
            "Road Surface Condition (0=Dry, 1=Wet, etc.): 0\n",
            "Crash Hour (0-23): 3\n",
            "Traffic Control Device (0=None, 1=Stop Sign, etc.): 1\n",
            "First Crash Type (0=Rear-end, 1=Angle, etc.): 0\n",
            "Alignment (0=Straight, 1=Curve, etc.): 1\n",
            "Primary Cause (0=Speeding, 1=Distracted Driving, etc.): 1\n",
            "Most Severe Injury (0=None, 1=Minor, 2=Severe, 3=Fatal): 3\n",
            "\n",
            "Prediction: The predicted crash type is 1.\n"
          ]
        }
      ],
      "source": [
        "# Load the saved model\n",
        "import joblib\n",
        "import pandas as pd\n",
        "\n",
        "model = joblib.load('accident_prediction_model.pkl')\n",
        "\n",
        "# Simple chatbot function\n",
        "def accident_prediction_chatbot():\n",
        "    print(\"Welcome to the Accident Prediction Chatbot!\")\n",
        "    print(\"Please provide the following information:\\n\")\n",
        "\n",
        "    # User inputs\n",
        "    weather_condition = int(input(\"Weather Condition (0=Clear, 1=Rain, 2=Snow, etc.): \"))\n",
        "    lighting_condition = int(input(\"Lighting Condition (0=Daylight, 1=Dark, etc.): \"))\n",
        "    roadway_surface_cond = int(input(\"Road Surface Condition (0=Dry, 1=Wet, etc.): \"))\n",
        "    crash_hour = int(input(\"Crash Hour (0-23): \"))\n",
        "    traffic_control_device = int(input(\"Traffic Control Device (0=None, 1=Stop Sign, etc.): \"))\n",
        "    first_crash_type = int(input(\"First Crash Type (0=Rear-end, 1=Angle, etc.): \"))\n",
        "    alignment = int(input(\"Alignment (0=Straight, 1=Curve, etc.): \"))\n",
        "    prim_contributory_cause = int(input(\"Primary Cause (0=Speeding, 1=Distracted Driving, etc.): \"))\n",
        "    most_severe_injury = int(input(\"Most Severe Injury (0=None, 1=Minor, 2=Severe, 3=Fatal): \"))\n",
        "\n",
        "    # Default values for missing features\n",
        "    crash_date = '2025-01-01'  # Placeholder date\n",
        "    crash_day_of_week = 4       # Assuming Thursday (adjust as needed)\n",
        "    crash_month = 1             # January\n",
        "    damage = 0                  # No damage (adjust based on dataset encoding)\n",
        "    num_units = 1               # Assuming a single vehicle\n",
        "    intersection_related_i = 0  # Not at intersection\n",
        "    injuries_total = 0\n",
        "    injuries_fatal = 0\n",
        "    injuries_incapacitating = 0\n",
        "    injuries_non_incapacitating = 0\n",
        "    injuries_reported_not_evident = 0\n",
        "    injuries_no_indication = 0\n",
        "    road_defect = 0             # Assuming no defect\n",
        "    trafficway_type = 0         # Default trafficway type\n",
        "\n",
        "    # Create DataFrame with all required features\n",
        "    user_data = pd.DataFrame({\n",
        "    'weather_condition': [weather_condition],\n",
        "    'lighting_condition': [lighting_condition],\n",
        "    'roadway_surface_cond': [roadway_surface_cond],\n",
        "    'crash_hour': [crash_hour],\n",
        "    'traffic_control_device': [traffic_control_device],\n",
        "    'first_crash_type': [first_crash_type],\n",
        "    'alignment': [alignment],\n",
        "    'prim_contributory_cause': [prim_contributory_cause],\n",
        "    'most_severe_injury': [most_severe_injury],\n",
        "    'crash_day_of_week': [crash_day_of_week],\n",
        "    'crash_month': [crash_month],\n",
        "    'damage': [damage],\n",
        "    'num_units': [num_units],\n",
        "    'intersection_related_i': [intersection_related_i],\n",
        "    'injuries_total': [injuries_total],\n",
        "    'injuries_fatal': [injuries_fatal],\n",
        "    'injuries_incapacitating': [injuries_incapacitating],\n",
        "    'injuries_non_incapacitating': [injuries_non_incapacitating],\n",
        "    'injuries_reported_not_evident': [injuries_reported_not_evident],\n",
        "    'injuries_no_indication': [injuries_no_indication],\n",
        "    'road_defect': [road_defect],\n",
        "    'trafficway_type': [trafficway_type]\n",
        "})\n",
        "\n",
        "    # Ensure feature order matches the model's expectations\n",
        "    user_data = user_data[X.columns]\n",
        "\n",
        "    # Make prediction\n",
        "    prediction = model.predict(user_data)\n",
        "    print(f\"\\nPrediction: The predicted crash type is {prediction[0]}.\")\n",
        "\n",
        "# Run the chatbot\n",
        "accident_prediction_chatbot()"
      ]
    },
    {
      "cell_type": "code",
      "execution_count": null,
      "metadata": {
        "colab": {
          "base_uri": "https://localhost:8080/"
        },
        "id": "0llLEGINIcbR",
        "outputId": "0be9688e-5052-4c0c-8dc1-cacc4ac5d38d"
      },
      "outputs": [],
      "source": []
    }
  ],
  "metadata": {
    "colab": {
      "provenance": []
    },
    "kernelspec": {
      "display_name": "Python 3",
      "name": "python3"
    },
    "language_info": {
      "name": "python"
    }
  },
  "nbformat": 4,
  "nbformat_minor": 0
}
